{
 "cells": [
  {
   "cell_type": "markdown",
   "metadata": {},
   "source": [
    "## Notebook to annotate DEGlist from 7control V 7armdrop exposed comparison for SICB 2024.  "
   ]
  },
  {
   "cell_type": "markdown",
   "metadata": {},
   "source": [
    "### Files Needed:\n",
    "1. `BLAST` output from the _Pycnopodia helianothoides_ genome gene list: https://raw.githubusercontent.com/grace-ac/project-pycno-sizeclass-2022/main/analyses/10-BLAST/summer2022-uniprot_blastx_sep.tab \n",
    "2. DEGlist from comparing 7 control stars to 7 arm drop exposed stars for SICB: https://raw.githubusercontent.com/grace-ac/project-pycno-sizeclass-2022/main/analyses/08-deseq2/DEGlist_control_v_armdrop_7x7.tab\n",
    "3. Uniprot GO Annotation file: http://owl.fish.washington.edu/halfshell/bu-alanine-wd/17-07-20/uniprot-SP-GO.sorted\n",
    "4. GOslim file available here: http://owl.fish.washington.edu/halfshell/bu-alanine-wd/17-07-20/GO-GOslim.sorted\n"
   ]
  },
  {
   "cell_type": "code",
   "execution_count": 2,
   "metadata": {},
   "outputs": [
    {
     "data": {
      "text/plain": [
       "'/Users/graciecrandall/Documents/GitHub/project-pycno-sizeclass-2022/code'"
      ]
     },
     "execution_count": 2,
     "metadata": {},
     "output_type": "execute_result"
    }
   ],
   "source": [
    "pwd"
   ]
  },
  {
   "cell_type": "code",
   "execution_count": 3,
   "metadata": {
    "collapsed": true
   },
   "outputs": [],
   "source": [
    "#change working directory to analyses folder for this notebook\n",
    "wd = \"../analyses/14-annotate-deglist-blastGO/\""
   ]
  },
  {
   "cell_type": "code",
   "execution_count": 4,
   "metadata": {},
   "outputs": [
    {
     "name": "stdout",
     "output_type": "stream",
     "text": [
      "/Users/graciecrandall/Documents/GitHub/project-pycno-sizeclass-2022/analyses/14-annotate-deglist-blastGO\n"
     ]
    }
   ],
   "source": [
    "cd $wd"
   ]
  },
  {
   "cell_type": "code",
   "execution_count": 6,
   "metadata": {},
   "outputs": [
    {
     "name": "stdout",
     "output_type": "stream",
     "text": [
      "  % Total    % Received % Xferd  Average Speed   Time    Time     Time  Current\n",
      "                                 Dload  Upload   Total   Spent    Left  Speed\n",
      "100 1435k  100 1435k    0     0  2817k      0 --:--:-- --:--:-- --:--:-- 2837k\n"
     ]
    }
   ],
   "source": [
    "# curl `blast` ouptut from Phel genome gene list\n",
    "!curl --insecure https://raw.githubusercontent.com/grace-ac/project-pycno-sizeclass-2022/main/analyses/10-BLAST/summer2022-uniprot_blastx_sep.tab \\\n",
    "    -o Phel.genelist.BLASTx"
   ]
  },
  {
   "cell_type": "code",
   "execution_count": 7,
   "metadata": {},
   "outputs": [
    {
     "name": "stdout",
     "output_type": "stream",
     "text": [
      "  % Total    % Received % Xferd  Average Speed   Time    Time     Time  Current\n",
      "                                 Dload  Upload   Total   Spent    Left  Speed\n",
      "100  2968  100  2968    0     0  11832      0 --:--:-- --:--:-- --:--:-- 14914\n"
     ]
    }
   ],
   "source": [
    "# curl uniprot-sprot sorted\n",
    "!curl http://owl.fish.washington.edu/halfshell/bu-alanine-wd/17-07-20/uniprot-SP-GO.sorted -o uniprot-SP-GO.sorted"
   ]
  },
  {
   "cell_type": "code",
   "execution_count": 8,
   "metadata": {},
   "outputs": [
    {
     "name": "stdout",
     "output_type": "stream",
     "text": [
      "  % Total    % Received % Xferd  Average Speed   Time    Time     Time  Current\n",
      "                                 Dload  Upload   Total   Spent    Left  Speed\n",
      "100  2968  100  2968    0     0  64395      0 --:--:-- --:--:-- --:--:-- 82444\n"
     ]
    }
   ],
   "source": [
    "# curl GO-GOslim sorted\n",
    "!curl http://owl.fish.washington.edu/halfshell/bu-alanine-wd/17-07-20/GO-GOslim.sorted -o GO-GOslim.sorted"
   ]
  },
  {
   "cell_type": "code",
   "execution_count": 10,
   "metadata": {},
   "outputs": [
    {
     "name": "stdout",
     "output_type": "stream",
     "text": [
      "2015.Phel.BLASTx     Phel.genelist.BLASTx\r\n",
      "GO-GOslim.sorted     uniprot-SP-GO.sorted\r\n"
     ]
    }
   ],
   "source": [
    "#check that curl-ed files are in directory\n",
    "#accidentally curled in 2015.Phel.BLASTX... ignore\n",
    "!ls"
   ]
  },
  {
   "cell_type": "code",
   "execution_count": 11,
   "metadata": {
    "collapsed": true
   },
   "outputs": [],
   "source": [
    "!sort -u -k1,1 --field-separator $'\\t' Phel.genelist.BLASTx > blastout"
   ]
  },
  {
   "cell_type": "code",
   "execution_count": 12,
   "metadata": {},
   "outputs": [
    {
     "name": "stdout",
     "output_type": "stream",
     "text": [
      "   13604 blastout\r\n"
     ]
    }
   ],
   "source": [
    "!wc -l blastout"
   ]
  },
  {
   "cell_type": "code",
   "execution_count": 13,
   "metadata": {
    "collapsed": true
   },
   "outputs": [],
   "source": [
    "#set `blast` output file as variable\n",
    "blastout=\"Phel.genelist.BLASTx\""
   ]
  },
  {
   "cell_type": "code",
   "execution_count": 14,
   "metadata": {},
   "outputs": [
    {
     "name": "stdout",
     "output_type": "stream",
     "text": [
      "g1000.t1\tsp\tQ6AY85\tALG14_RAT\t53.846\t182\t81\t1\t130\t666\t35\t216\t1.85E-73\t224\r",
      "\r\n",
      "g10000.t1\tsp\tQ8C163\tEXOG_MOUSE\t38.281\t256\t150\t5\t34\t792\t16\t266\t1.39E-52\t178\r",
      "\r\n"
     ]
    }
   ],
   "source": [
    "!head -2 blastout"
   ]
  },
  {
   "cell_type": "code",
   "execution_count": 15,
   "metadata": {
    "collapsed": true
   },
   "outputs": [],
   "source": [
    "#convert pipes to tab\n",
    "!tr '|' '\\t' < blastout \\\n",
    "> _blast-sep.tab"
   ]
  },
  {
   "cell_type": "code",
   "execution_count": 16,
   "metadata": {},
   "outputs": [
    {
     "name": "stdout",
     "output_type": "stream",
     "text": [
      "g1000.t1\tsp\tQ6AY85\tALG14_RAT\t53.846\t182\t81\t1\t130\t666\t35\t216\t1.85E-73\t224\r",
      "\r\n",
      "g10000.t1\tsp\tQ8C163\tEXOG_MOUSE\t38.281\t256\t150\t5\t34\t792\t16\t266\t1.39E-52\t178\r",
      "\r\n"
     ]
    }
   ],
   "source": [
    "!head -2 _blast-sep.tab"
   ]
  },
  {
   "cell_type": "code",
   "execution_count": 17,
   "metadata": {
    "collapsed": true
   },
   "outputs": [],
   "source": [
    "#reducing number of columns and sorting \n",
    "!awk -v OFS='\\t' '{print $3, $1, $13}' < _blast-sep.tab | sort \\\n",
    "> _blast-sort.tab"
   ]
  },
  {
   "cell_type": "code",
   "execution_count": 18,
   "metadata": {},
   "outputs": [
    {
     "name": "stdout",
     "output_type": "stream",
     "text": [
      "A0A061ACU2\tg2123.t1\t0\r\n",
      "A0A061ACU2\tg2123.t2\t0\r\n"
     ]
    }
   ],
   "source": [
    "!head -2 _blast-sort.tab"
   ]
  },
  {
   "cell_type": "code",
   "execution_count": 19,
   "metadata": {},
   "outputs": [
    {
     "name": "stdout",
     "output_type": "stream",
     "text": [
      "<!DOCTYPE html>\r\n",
      "<html>\r\n"
     ]
    }
   ],
   "source": [
    "!head -2 uniprot-SP-GO.sorted"
   ]
  },
  {
   "cell_type": "markdown",
   "metadata": {},
   "source": [
    "For some reason the uniprot-SP-GO.sorted and GO-GOslim.sorted are .html files... but I have those same files in a github repo from my crab stuff so I'll just use those for now. "
   ]
  },
  {
   "cell_type": "code",
   "execution_count": 20,
   "metadata": {},
   "outputs": [
    {
     "name": "stdout",
     "output_type": "stream",
     "text": [
      "A0A023GPI8\tLECA_CANBL\treviewed\tLectin alpha chain (CboL) [Cleaved into: Lectin beta chain; Lectin gamma chain]\t\tCanavalia boliviana\t237\t\t\tmannose binding [GO:0005537]; metal ion binding [GO:0046872]\tmannose binding [GO:0005537]; metal ion binding [GO:0046872]\tGO:0005537; GO:0046872\r\n",
      "A0A023GPJ0\tCDII_ENTCC\treviewed\tImmunity protein CdiI\tcdiI ECL_04450.1\tEnterobacter cloacae subsp. cloacae (strain ATCC 13047 / DSM 30054 / NBRC 13535 / NCDC 279-56)\t145\t\t\t\t\t\r\n"
     ]
    }
   ],
   "source": [
    "!head -2 uniprot-SP-GO.sorted"
   ]
  },
  {
   "cell_type": "code",
   "execution_count": 21,
   "metadata": {
    "collapsed": true
   },
   "outputs": [],
   "source": [
    "#joining blast with uniprot annoation file and reducing to three columns UniprotID, Query, All GO terms\n",
    "!join -t $'\\t' \\\n",
    "_blast-sort.tab \\\n",
    "uniprot-SP-GO.sorted \\\n",
    "| cut -f1,2,14 \\\n",
    "> _blast-annot.tab"
   ]
  },
  {
   "cell_type": "code",
   "execution_count": 22,
   "metadata": {},
   "outputs": [
    {
     "name": "stdout",
     "output_type": "stream",
     "text": [
      "A0A0D2YG10\tg13111.t1\tGO:0016491; GO:0016746; GO:0031177\r\n",
      "A0A0D3QS98\tg5914.t1\tGO:0005576; GO:0016055; GO:0030178; GO:1990697; GO:1990699\r\n"
     ]
    }
   ],
   "source": [
    "!head -2 _blast-annot.tab"
   ]
  },
  {
   "cell_type": "markdown",
   "metadata": {},
   "source": [
    "The following is a script modified by Sam White"
   ]
  },
  {
   "cell_type": "code",
   "execution_count": 23,
   "metadata": {
    "collapsed": true
   },
   "outputs": [],
   "source": [
    "%%bash \n",
    "\n",
    "# This script was originally written to address a specific problem that Rhonda was having\n",
    "\n",
    "\n",
    "\n",
    "# input_file is the initial, \"problem\" file\n",
    "# file is an intermediate file that most of the program works upon\n",
    "# output_file is the final file produced by the script\n",
    "input_file=\"_blast-annot.tab\"\n",
    "file=\"_intermediate.file\"\n",
    "output_file=\"_blast-GO-unfolded.tab\"\n",
    "\n",
    "# sed command substitutes the \"; \" sequence to a tab and writes the new format to a new file.\n",
    "# This character sequence is how the GO terms are delimited in their field.\n",
    "sed $'s/; /\\t/g' \"$input_file\" > \"$file\"\n",
    "\n",
    "# Identify first field containing a GO term.\n",
    "# Search file with grep for \"GO:\" and pipe to awk.\n",
    "# Awk sets tab as field delimiter (-F'\\t'), runs a for loop that looks for \"GO:\" (~/GO:/), and then prints the field number).\n",
    "# Awk results are piped to sort, which sorts unique by number (-ug).\n",
    "# Sort results are piped to head to retrieve the lowest value (i.e. the top of the list; \"-n1\").\n",
    "begin_goterms=$(grep \"GO:\" \"$file\" | awk -F'\\t' '{for (i=1;i<=NF;i++) if($i ~/GO:/) print i}' | sort -ug | head -n1)\n",
    "\n",
    "# While loop to process each line of the input file.\n",
    "while read -r line\n",
    "\tdo\n",
    "\t\n",
    "\t# Send contents of the current line to awk.\n",
    "\t# Set the field separator as a tab (-F'\\t') and print the number of fields in that line.\n",
    "\t# Save the results of the echo/awk pipe (i.e. number of fields) to the variable \"max_field\".\n",
    "\tmax_field=$(echo \"$line\" | awk -F'\\t' '{print NF}')\n",
    "\n",
    "\t# Send contents of current line to cut.\n",
    "\t# Cut fields (i.e. retain those fields) 1-12.\n",
    "\t# Save the results of the echo/cut pipe (i.e. fields 1-12) to the variable \"fixed_fields\"\n",
    "\tfixed_fields=$(echo \"$line\" | cut -f1-2)\n",
    "\n",
    "\t# Since not all the lines contain the same number of fields (e.g. may not have GO terms),\n",
    "\t# evaluate the number of fields in each line to determine how to handle current line.\n",
    "\n",
    "\t# If the value in max_field is less than the field number where the GO terms begin,\n",
    "\t# then just print the current line (%s) followed by a newline (\\n).\n",
    "\tif (( \"$max_field\" < \"$begin_goterms\" ))\n",
    "\t\tthen printf \"%s\\n\" \"$line\"\n",
    "\t\t\telse\n",
    "\n",
    "\t\t\t# Send contents of current line (which contains GO terms) to cut.\n",
    "\t\t\t# Cut fields (i.e. retain those fields) 13 to whatever the last field is in the curent line.\n",
    "\t\t\t# Save the results of the echo/cut pipe (i.e. all the GO terms fields) to the variable \"goterms\".\n",
    "\t\t\tgoterms=$(echo \"$line\" | cut -f\"$begin_goterms\"-\"$max_field\")\n",
    "\t\t\t\n",
    "\t\t\t# Assign values in the variable \"goterms\" to a new indexed array (called \"array\"), \n",
    "\t\t\t# with tab delimiter (IFS=$'\\t')\n",
    "\t\t\tIFS=$'\\t' read -r -a array <<<\"$goterms\"\n",
    "\t\t\t\n",
    "\t\t\t# Iterate through each element of the array.\n",
    "\t\t\t# Print the first 12 fields (i.e. the fields stored in \"fixed_fields\") followed by a tab (%s\\t).\n",
    "\t\t\t# Print the current element in the array (i.e. the current GO term) followed by a new line (%s\\n).\n",
    "\t\t\tfor element in \"${!array[@]}\"\t\n",
    "\t\t\t\tdo printf \"%s\\t%s\\n\" \"$fixed_fields\" \"${array[$element]}\"\n",
    "\t\t\tdone\n",
    "\tfi\n",
    "\n",
    "# Send the input file into the while loop and send the output to a file named \"rhonda_fixed.txt\".\n",
    "done < \"$file\" > \"$output_file\""
   ]
  },
  {
   "cell_type": "code",
   "execution_count": 24,
   "metadata": {},
   "outputs": [
    {
     "name": "stdout",
     "output_type": "stream",
     "text": [
      "A0A0D2YG10\tg13111.t1\tGO:0016491\r\n",
      "A0A0D2YG10\tg13111.t1\tGO:0016746\r\n",
      "A0A0D2YG10\tg13111.t1\tGO:0031177\r\n",
      "A0A0D3QS98\tg5914.t1\tGO:0005576\r\n",
      "A0A0D3QS98\tg5914.t1\tGO:0016055\r\n",
      "A0A0D3QS98\tg5914.t1\tGO:0030178\r\n",
      "A0A0D3QS98\tg5914.t1\tGO:1990697\r\n",
      "A0A0D3QS98\tg5914.t1\tGO:1990699\r\n",
      "A0A0F7Z3J2\tg4163.t1\tGO:0005179\r\n",
      "A0A0F7Z3J2\tg4163.t1\tGO:0005576\r\n"
     ]
    }
   ],
   "source": [
    "!head _blast-GO-unfolded.tab"
   ]
  },
  {
   "cell_type": "code",
   "execution_count": 25,
   "metadata": {
    "collapsed": true
   },
   "outputs": [],
   "source": [
    "#gets rid of lines with no GOIDs\n",
    "!sort -k3 _blast-GO-unfolded.tab | grep \"GO:\" > _blast-GO-unfolded.sorted"
   ]
  },
  {
   "cell_type": "code",
   "execution_count": 26,
   "metadata": {
    "collapsed": true
   },
   "outputs": [],
   "source": [
    "#joining files to get GOslim for each query (with duplicate GOslim / query removed)\n",
    "!join -1 3 -2 1 -t $'\\t' \\\n",
    "_blast-GO-unfolded.sorted \\\n",
    "GO-GOslim.sorted \\\n",
    "| uniq | awk -F'\\t' -v OFS='\\t' '{print $3, $1, $5, $6}' \\\n",
    "> Blastquery-GOslim.tab"
   ]
  },
  {
   "cell_type": "code",
   "execution_count": 27,
   "metadata": {},
   "outputs": [
    {
     "name": "stdout",
     "output_type": "stream",
     "text": [
      "g9026.t1\tGO:0000002\tcell organization and biogenesis\tP\r\n",
      "g1868.t1\tGO:0000002\tcell organization and biogenesis\tP\r\n",
      "g9382.t1\tGO:0000002\tcell organization and biogenesis\tP\r\n",
      "g16208.t1\tGO:0000002\tcell organization and biogenesis\tP\r\n",
      "g4483.t1\tGO:0000002\tcell organization and biogenesis\tP\r\n",
      "g4483.t2\tGO:0000002\tcell organization and biogenesis\tP\r\n",
      "g22532.t1\tGO:0000003\tother biological processes\tP\r\n",
      "g21574.t1\tGO:0000009\tother molecular function\tF\r\n",
      "g15378.t1\tGO:0000010\tother molecular function\tF\r\n",
      "g5617.t1\tGO:0000010\tother molecular function\tF\r\n"
     ]
    }
   ],
   "source": [
    "!head Blastquery-GOslim.tab"
   ]
  },
  {
   "cell_type": "code",
   "execution_count": 29,
   "metadata": {
    "collapsed": true
   },
   "outputs": [],
   "source": [
    "#join Blastquery-GOslim.tab with https://raw.githubusercontent.com/grace-ac/project-pycno-sizeclass-2022/main/analyses/08-deseq2/DEGlist_control_v_armdrop_7x7.tab in R\n",
    "#Save Blastquery-GOslim.tab to directory"
   ]
  },
  {
   "cell_type": "code",
   "execution_count": 30,
   "metadata": {},
   "outputs": [
    {
     "name": "stdout",
     "output_type": "stream",
     "text": [
      "2015.Phel.BLASTx\r\n",
      "Blastquery-GOslim.tab\r\n",
      "DEGlist_7controlV7armdrop_blastGOslim.tab\r\n",
      "GO-GOslim.sorted\r\n",
      "Phel.genelist.BLASTx\r\n",
      "_blast-GO-unfolded.sorted\r\n",
      "_blast-GO-unfolded.tab\r\n",
      "_blast-annot.tab\r\n",
      "_blast-sep.tab\r\n",
      "_blast-sort.tab\r\n",
      "_intermediate.file\r\n",
      "blastout\r\n",
      "uniprot-SP-GO.sorted\r\n"
     ]
    }
   ],
   "source": [
    "#check contents of directory\n",
    "!ls"
   ]
  },
  {
   "cell_type": "code",
   "execution_count": 32,
   "metadata": {},
   "outputs": [
    {
     "name": "stdout",
     "output_type": "stream",
     "text": [
      "geneID\tbaseMean\tlog2FoldChange\tlfcSE\tstat\tpvalue\tpadj\tGOID\tBiological_Process\tP\r\n",
      "g10002.t1\t123.638504919869\t0.728530719335967\t0.284790842860068\t2.55812550719522\t0.0105238102589992\t0.0335794643644705\tNA\tNA\tNA\r\n"
     ]
    }
   ],
   "source": [
    "!head -2 DEGlist_7controlV7armdrop_blastGOslim.tab"
   ]
  },
  {
   "cell_type": "code",
   "execution_count": 34,
   "metadata": {},
   "outputs": [
    {
     "name": "stdout",
     "output_type": "stream",
     "text": [
      "21657 P\r\n"
     ]
    }
   ],
   "source": [
    "#count unique P rows (P = biological process)\n",
    "!cat DEGlist_7controlV7armdrop_blastGOslim.tab | grep \"\tP\"  | awk -F $'\\t' '{print $10}' | sort | uniq -c"
   ]
  },
  {
   "cell_type": "code",
   "execution_count": 36,
   "metadata": {
    "collapsed": true
   },
   "outputs": [],
   "source": [
    "#there are 21657 unique biological processes in the DEGlist... however the original DEGlist is only 7117 rows. \n",
    "#Reason is becase there are multiple GOslim terms per Phel gene"
   ]
  },
  {
   "cell_type": "code",
   "execution_count": 37,
   "metadata": {},
   "outputs": [
    {
     "name": "stdout",
     "output_type": "stream",
     "text": [
      "3294 other biological processes\r\n",
      "2849 developmental processes\r\n",
      "2378 other metabolic processes\r\n",
      "2288 cell organization and biogenesis\r\n",
      "2051 protein metabolism\r\n",
      "1832 transport\r\n",
      "1642 RNA metabolism\r\n",
      "1616 signal transduction\r\n",
      "1366 stress response\r\n",
      " 876 cell cycle and proliferation\r\n",
      " 444 death\r\n",
      " 420 DNA metabolism\r\n",
      " 314 cell adhesion\r\n",
      " 286 cell-cell signaling\r\n",
      "   1 Biological_Process\r\n"
     ]
    }
   ],
   "source": [
    "!cat DEGlist_7controlV7armdrop_blastGOslim.tab | grep \"\tP\" | awk -F $'\\t' '{print $9}' | sort | uniq -c | sort -r"
   ]
  },
  {
   "cell_type": "code",
   "execution_count": 38,
   "metadata": {},
   "outputs": [
    {
     "name": "stdout",
     "output_type": "stream",
     "text": [
      "2015.Phel.BLASTx\r\n",
      "Blastquery-GOslim.tab\r\n",
      "DEGlist_7controlV7armdrop_blastGOslim.tab\r\n",
      "GO-GOslim.sorted\r\n",
      "Phel.genelist.BLASTx\r\n",
      "_blast-GO-unfolded.sorted\r\n",
      "_blast-GO-unfolded.tab\r\n",
      "_blast-annot.tab\r\n",
      "_blast-sep.tab\r\n",
      "_blast-sort.tab\r\n",
      "_intermediate.file\r\n",
      "blastout\r\n",
      "uniprot-SP-GO.sorted\r\n"
     ]
    }
   ],
   "source": [
    "!ls"
   ]
  },
  {
   "cell_type": "code",
   "execution_count": null,
   "metadata": {
    "collapsed": true
   },
   "outputs": [],
   "source": []
  }
 ],
 "metadata": {
  "kernelspec": {
   "display_name": "Python [default]",
   "language": "python",
   "name": "python3"
  },
  "language_info": {
   "codemirror_mode": {
    "name": "ipython",
    "version": 3
   },
   "file_extension": ".py",
   "mimetype": "text/x-python",
   "name": "python",
   "nbconvert_exporter": "python",
   "pygments_lexer": "ipython3",
   "version": "3.5.6"
  }
 },
 "nbformat": 4,
 "nbformat_minor": 2
}
